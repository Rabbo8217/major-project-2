{
 "cells": [
  {
   "cell_type": "code",
   "execution_count": null,
   "id": "0516f67e",
   "metadata": {},
   "outputs": [],
   "source": [
    "import pandas as pd \n",
    "import numpy as np"
   ]
  },
  {
   "cell_type": "code",
   "execution_count": 1,
   "id": "211554d2",
   "metadata": {},
   "outputs": [
    {
     "name": "stdout",
     "output_type": "stream",
     "text": [
      "helu\n"
     ]
    }
   ],
   "source": [
    "print(\"helu\")"
   ]
  },
  {
   "cell_type": "code",
   "execution_count": null,
   "id": "2ed916c8",
   "metadata": {
    "scrolled": true
   },
   "outputs": [],
   "source": [
    "df = pd.read_csv('Data/features_30_sec.csv')\n",
    "df.head()"
   ]
  },
  {
   "cell_type": "markdown",
   "id": "c8e00ee0",
   "metadata": {},
   "source": [
    "### Preprocessing"
   ]
  },
  {
   "cell_type": "code",
   "execution_count": null,
   "id": "616220bf",
   "metadata": {},
   "outputs": [],
   "source": [
    "df['label'].unique()"
   ]
  },
  {
   "cell_type": "code",
   "execution_count": null,
   "id": "9b891715",
   "metadata": {},
   "outputs": [],
   "source": [
    "# creating a list of labels\n",
    "df['label']=df['label'].astype('category')\n",
    "# creating a list of index\n",
    "df['class_label'] = df['label'].cat.codes"
   ]
  },
  {
   "cell_type": "code",
   "execution_count": null,
   "id": "55ccbed5",
   "metadata": {},
   "outputs": [],
   "source": [
    "# creating a json type object dictionary to store labels\n",
    "genre_dict = dict(zip(df.class_label.unique(), df.label.unique()))   \n",
    "print(genre_dict[0])"
   ]
  },
  {
   "cell_type": "code",
   "execution_count": null,
   "id": "989c8dcc",
   "metadata": {},
   "outputs": [],
   "source": [
    "df['label'].unique()"
   ]
  },
  {
   "cell_type": "code",
   "execution_count": null,
   "id": "2ca83578",
   "metadata": {},
   "outputs": [],
   "source": [
    "# removed the output values from the list\n",
    "cols = list(df.columns)\n",
    "cols.remove('label')"
   ]
  },
  {
   "cell_type": "markdown",
   "id": "97df078c",
   "metadata": {},
   "source": [
    "### Splitting data for training and testing"
   ]
  },
  {
   "cell_type": "code",
   "execution_count": null,
   "id": "49026fa0",
   "metadata": {},
   "outputs": [],
   "source": [
    "from sklearn.model_selection import train_test_split\n",
    "import matplotlib.pyplot as plt\n",
    "X = df.iloc[:,1:28]\n",
    "y = df['label']\n",
    "X_train,X_test,y_train,y_test=train_test_split(X,y,test_size=0.2)"
   ]
  },
  {
   "cell_type": "markdown",
   "id": "364dcb3e",
   "metadata": {},
   "source": [
    "### Min-max Normalization"
   ]
  },
  {
   "cell_type": "code",
   "execution_count": null,
   "id": "40e9b423",
   "metadata": {},
   "outputs": [],
   "source": [
    "from sklearn.preprocessing import MinMaxScaler\n",
    "scaler = MinMaxScaler()\n",
    "X_train_scaled = scaler.fit_transform(X_train)\n",
    "X_test_scaled = scaler.fit_transform(X_test)"
   ]
  },
  {
   "cell_type": "markdown",
   "id": "51a5579a",
   "metadata": {},
   "source": [
    "### Feature importance using Random Forest"
   ]
  },
  {
   "cell_type": "code",
   "execution_count": null,
   "id": "7235bdd5",
   "metadata": {},
   "outputs": [],
   "source": [
    "from sklearn.ensemble import RandomForestClassifier\n",
    "\n",
    "clf = RandomForestClassifier(random_state = 0, n_jobs = -1).fit(X_train_scaled,y_train)\n",
    "importances = clf.feature_importances_\n",
    "#[::x] selects every value at x distance apart\n",
    "## argsort returns the sorted indexes of the array\n",
    "indices =  np.argsort(importances)[::-1]\n",
    "# list of labels of the features\n",
    "features = [X.columns.values[i] for i in indices]\n",
    "plt.figure()\n",
    "plt.title(\"Feature Importance\")\n",
    "plt.bar(range(X.shape[1]),importances[indices])\n",
    "plt.xticks(range(X.shape[1]),features,rotation=90)\n",
    "plt.show()"
   ]
  },
  {
   "cell_type": "markdown",
   "id": "9becaf17",
   "metadata": {},
   "source": [
    "### Feature importance using Decision Tree"
   ]
  },
  {
   "cell_type": "code",
   "execution_count": null,
   "id": "0e2b10bc",
   "metadata": {},
   "outputs": [],
   "source": [
    "from sklearn.tree import DecisionTreeClassifier\n",
    "clf = DecisionTreeClassifier(random_state=0).fit(X_train_scaled, y_train)\n",
    "importances = clf.feature_importances_\n",
    "indices = np.argsort(importances)[::-1]\n",
    "names = [X.columns.values[i] for i in indices]\n",
    "plt.figure()\n",
    "plt.title(\"Feature Importance\")\n",
    "plt.bar(range(X.shape[1]), importances[indices])\n",
    "plt.xticks(range(X.shape[1]), names, rotation=90)\n",
    "plt.show()"
   ]
  },
  {
   "cell_type": "markdown",
   "id": "d2177e8d",
   "metadata": {},
   "source": [
    "### Fetching file metadata for prediction"
   ]
  },
  {
   "cell_type": "code",
   "execution_count": null,
   "id": "cbb62c7b",
   "metadata": {},
   "outputs": [],
   "source": [
    "test_df = pd.read_csv('Data/test set.csv')\n",
    "test_df.head()"
   ]
  },
  {
   "cell_type": "markdown",
   "id": "3173efd1",
   "metadata": {},
   "source": [
    "### K-nearest neighbours"
   ]
  },
  {
   "cell_type": "code",
   "execution_count": null,
   "id": "6f876e26",
   "metadata": {},
   "outputs": [],
   "source": [
    "from sklearn.neighbors import KNeighborsClassifier\n",
    "knn = KNeighborsClassifier(n_neighbors = 13)\n",
    "knn.fit(X_train_scaled,y_train)\n",
    "knn.score(X_test_scaled,y_test)"
   ]
  },
  {
   "cell_type": "markdown",
   "id": "cc209b16",
   "metadata": {},
   "source": [
    "### Prediction using KNN"
   ]
  },
  {
   "cell_type": "code",
   "execution_count": null,
   "id": "7642282c",
   "metadata": {},
   "outputs": [],
   "source": [
    "d1 = test_df.iloc[12,:28]\n",
    "d1 = d1.drop(['filename'])\n",
    "data1 = scaler.transform([d1])\n",
    "genre_prediction = knn.predict(data1)\n",
    "print(genre_prediction[0])"
   ]
  },
  {
   "cell_type": "markdown",
   "id": "079c250b",
   "metadata": {},
   "source": [
    "### Accuracy of  SVM"
   ]
  },
  {
   "cell_type": "code",
   "execution_count": null,
   "id": "b830173f",
   "metadata": {},
   "outputs": [],
   "source": [
    "from sklearn.svm import SVC\n",
    "clf = SVC(kernel = 'linear', C=10).fit(X_train_scaled, y_train)\n",
    "clf.score(X_test_scaled, y_test)"
   ]
  },
  {
   "cell_type": "markdown",
   "id": "22f4b4be",
   "metadata": {},
   "source": [
    "### Prediction using SVM"
   ]
  },
  {
   "cell_type": "code",
   "execution_count": null,
   "id": "baee3895",
   "metadata": {},
   "outputs": [],
   "source": [
    "d1 = test_df.iloc[0,:28]\n",
    "d1 = d1.drop(['filename'])\n",
    "data1 = scaler.transform([d1])\n",
    "genre_prediction = clf.predict(data1)\n",
    "print(genre_prediction[0])"
   ]
  },
  {
   "cell_type": "code",
   "execution_count": null,
   "id": "c64845e2",
   "metadata": {},
   "outputs": [],
   "source": [
    "from sklearn.ensemble import RandomForestClassifier \n",
    "from sklearn.datasets import make_classification\n",
    "clf =RandomForestClassifier()\n",
    "clf.fit(X_train_scaled,y_train)"
   ]
  },
  {
   "cell_type": "code",
   "execution_count": null,
   "id": "36ea2eb2",
   "metadata": {},
   "outputs": [],
   "source": [
    "print(clf.feature_importances_)\n",
    "output=clf.predict(data1)[0]\n",
    "print(output)"
   ]
  },
  {
   "cell_type": "code",
   "execution_count": null,
   "metadata": {},
   "outputs": [],
   "source": [
    "clf.score(X_test_scaled, y_test)"
   ]
  },
  {
   "cell_type": "markdown",
   "id": "d7f60055",
   "metadata": {},
   "source": [
    "### ML Algos\n",
    "- Linear regression \n",
    "- Logistic regression\n",
    "- Decision tree\n",
    "- SVM algorithm (done)\n",
    "- Naive Bayes algorithm\n",
    "- KNN algorithm (done)\n",
    "- K-means\n",
    "- Random forest algorithm (done)\n",
    "- Dimensionality reduction algorithms\n",
    "- Gradient boosting algorithm and AdaBoosting algorithm\n"
   ]
  },
  {
   "cell_type": "code",
   "execution_count": null,
   "id": "e604c3b5",
   "metadata": {},
   "outputs": [],
   "source": [
    "print(\"hello\")"
   ]
  },
  {
   "cell_type": "code",
   "execution_count": null,
   "id": "d98d27b8",
   "metadata": {},
   "outputs": [],
   "source": [
    "print(\"hi\")"
   ]
  },
  {
   "cell_type": "code",
   "execution_count": null,
   "id": "36816d6c",
   "metadata": {},
   "outputs": [],
   "source": []
  }
 ],
 "metadata": {
  "kernelspec": {
   "display_name": "Python 3 (ipykernel)",
   "language": "python",
   "name": "python3"
  },
  "language_info": {
   "codemirror_mode": {
    "name": "ipython",
    "version": 3
   },
   "file_extension": ".py",
   "mimetype": "text/x-python",
   "name": "python",
   "nbconvert_exporter": "python",
   "pygments_lexer": "ipython3",
   "version": "3.9.7"
  }
 },
 "nbformat": 4,
 "nbformat_minor": 5
}
