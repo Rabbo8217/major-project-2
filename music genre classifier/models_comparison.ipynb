{
 "cells": [
  {
   "cell_type": "code",
   "execution_count": 17,
   "id": "0516f67e",
   "metadata": {},
   "outputs": [],
   "source": [
    "import pandas as pd \n",
    "import numpy as np"
   ]
  },
  {
   "cell_type": "code",
   "execution_count": 18,
   "id": "2ed916c8",
   "metadata": {
    "scrolled": true
   },
   "outputs": [
    {
     "data": {
      "text/html": [
       "<div>\n",
       "<style scoped>\n",
       "    .dataframe tbody tr th:only-of-type {\n",
       "        vertical-align: middle;\n",
       "    }\n",
       "\n",
       "    .dataframe tbody tr th {\n",
       "        vertical-align: top;\n",
       "    }\n",
       "\n",
       "    .dataframe thead th {\n",
       "        text-align: right;\n",
       "    }\n",
       "</style>\n",
       "<table border=\"1\" class=\"dataframe\">\n",
       "  <thead>\n",
       "    <tr style=\"text-align: right;\">\n",
       "      <th></th>\n",
       "      <th>filename</th>\n",
       "      <th>length</th>\n",
       "      <th>chroma_stft_mean</th>\n",
       "      <th>chroma_stft_var</th>\n",
       "      <th>rms_mean</th>\n",
       "      <th>rms_var</th>\n",
       "      <th>spectral_centroid_mean</th>\n",
       "      <th>spectral_centroid_var</th>\n",
       "      <th>spectral_bandwidth_mean</th>\n",
       "      <th>spectral_bandwidth_var</th>\n",
       "      <th>...</th>\n",
       "      <th>mfcc16_var</th>\n",
       "      <th>mfcc17_mean</th>\n",
       "      <th>mfcc17_var</th>\n",
       "      <th>mfcc18_mean</th>\n",
       "      <th>mfcc18_var</th>\n",
       "      <th>mfcc19_mean</th>\n",
       "      <th>mfcc19_var</th>\n",
       "      <th>mfcc20_mean</th>\n",
       "      <th>mfcc20_var</th>\n",
       "      <th>label</th>\n",
       "    </tr>\n",
       "  </thead>\n",
       "  <tbody>\n",
       "    <tr>\n",
       "      <th>0</th>\n",
       "      <td>blues.00000.wav</td>\n",
       "      <td>661794</td>\n",
       "      <td>0.350088</td>\n",
       "      <td>0.088757</td>\n",
       "      <td>0.130228</td>\n",
       "      <td>0.002827</td>\n",
       "      <td>1784.165850</td>\n",
       "      <td>129774.064525</td>\n",
       "      <td>2002.449060</td>\n",
       "      <td>85882.761315</td>\n",
       "      <td>...</td>\n",
       "      <td>52.420910</td>\n",
       "      <td>-1.690215</td>\n",
       "      <td>36.524071</td>\n",
       "      <td>-0.408979</td>\n",
       "      <td>41.597103</td>\n",
       "      <td>-2.303523</td>\n",
       "      <td>55.062923</td>\n",
       "      <td>1.221291</td>\n",
       "      <td>46.936035</td>\n",
       "      <td>blues</td>\n",
       "    </tr>\n",
       "    <tr>\n",
       "      <th>1</th>\n",
       "      <td>blues.00001.wav</td>\n",
       "      <td>661794</td>\n",
       "      <td>0.340914</td>\n",
       "      <td>0.094980</td>\n",
       "      <td>0.095948</td>\n",
       "      <td>0.002373</td>\n",
       "      <td>1530.176679</td>\n",
       "      <td>375850.073649</td>\n",
       "      <td>2039.036516</td>\n",
       "      <td>213843.755497</td>\n",
       "      <td>...</td>\n",
       "      <td>55.356403</td>\n",
       "      <td>-0.731125</td>\n",
       "      <td>60.314529</td>\n",
       "      <td>0.295073</td>\n",
       "      <td>48.120598</td>\n",
       "      <td>-0.283518</td>\n",
       "      <td>51.106190</td>\n",
       "      <td>0.531217</td>\n",
       "      <td>45.786282</td>\n",
       "      <td>blues</td>\n",
       "    </tr>\n",
       "    <tr>\n",
       "      <th>2</th>\n",
       "      <td>blues.00002.wav</td>\n",
       "      <td>661794</td>\n",
       "      <td>0.363637</td>\n",
       "      <td>0.085275</td>\n",
       "      <td>0.175570</td>\n",
       "      <td>0.002746</td>\n",
       "      <td>1552.811865</td>\n",
       "      <td>156467.643368</td>\n",
       "      <td>1747.702312</td>\n",
       "      <td>76254.192257</td>\n",
       "      <td>...</td>\n",
       "      <td>40.598766</td>\n",
       "      <td>-7.729093</td>\n",
       "      <td>47.639427</td>\n",
       "      <td>-1.816407</td>\n",
       "      <td>52.382141</td>\n",
       "      <td>-3.439720</td>\n",
       "      <td>46.639660</td>\n",
       "      <td>-2.231258</td>\n",
       "      <td>30.573025</td>\n",
       "      <td>blues</td>\n",
       "    </tr>\n",
       "    <tr>\n",
       "      <th>3</th>\n",
       "      <td>blues.00003.wav</td>\n",
       "      <td>661794</td>\n",
       "      <td>0.404785</td>\n",
       "      <td>0.093999</td>\n",
       "      <td>0.141093</td>\n",
       "      <td>0.006346</td>\n",
       "      <td>1070.106615</td>\n",
       "      <td>184355.942417</td>\n",
       "      <td>1596.412872</td>\n",
       "      <td>166441.494769</td>\n",
       "      <td>...</td>\n",
       "      <td>44.427753</td>\n",
       "      <td>-3.319597</td>\n",
       "      <td>50.206673</td>\n",
       "      <td>0.636965</td>\n",
       "      <td>37.319130</td>\n",
       "      <td>-0.619121</td>\n",
       "      <td>37.259739</td>\n",
       "      <td>-3.407448</td>\n",
       "      <td>31.949339</td>\n",
       "      <td>blues</td>\n",
       "    </tr>\n",
       "    <tr>\n",
       "      <th>4</th>\n",
       "      <td>blues.00004.wav</td>\n",
       "      <td>661794</td>\n",
       "      <td>0.308526</td>\n",
       "      <td>0.087841</td>\n",
       "      <td>0.091529</td>\n",
       "      <td>0.002303</td>\n",
       "      <td>1835.004266</td>\n",
       "      <td>343399.939274</td>\n",
       "      <td>1748.172116</td>\n",
       "      <td>88445.209036</td>\n",
       "      <td>...</td>\n",
       "      <td>86.099236</td>\n",
       "      <td>-5.454034</td>\n",
       "      <td>75.269707</td>\n",
       "      <td>-0.916874</td>\n",
       "      <td>53.613918</td>\n",
       "      <td>-4.404827</td>\n",
       "      <td>62.910812</td>\n",
       "      <td>-11.703234</td>\n",
       "      <td>55.195160</td>\n",
       "      <td>blues</td>\n",
       "    </tr>\n",
       "  </tbody>\n",
       "</table>\n",
       "<p>5 rows × 60 columns</p>\n",
       "</div>"
      ],
      "text/plain": [
       "          filename  length  chroma_stft_mean  chroma_stft_var  rms_mean  \\\n",
       "0  blues.00000.wav  661794          0.350088         0.088757  0.130228   \n",
       "1  blues.00001.wav  661794          0.340914         0.094980  0.095948   \n",
       "2  blues.00002.wav  661794          0.363637         0.085275  0.175570   \n",
       "3  blues.00003.wav  661794          0.404785         0.093999  0.141093   \n",
       "4  blues.00004.wav  661794          0.308526         0.087841  0.091529   \n",
       "\n",
       "    rms_var  spectral_centroid_mean  spectral_centroid_var  \\\n",
       "0  0.002827             1784.165850          129774.064525   \n",
       "1  0.002373             1530.176679          375850.073649   \n",
       "2  0.002746             1552.811865          156467.643368   \n",
       "3  0.006346             1070.106615          184355.942417   \n",
       "4  0.002303             1835.004266          343399.939274   \n",
       "\n",
       "   spectral_bandwidth_mean  spectral_bandwidth_var  ...  mfcc16_var  \\\n",
       "0              2002.449060            85882.761315  ...   52.420910   \n",
       "1              2039.036516           213843.755497  ...   55.356403   \n",
       "2              1747.702312            76254.192257  ...   40.598766   \n",
       "3              1596.412872           166441.494769  ...   44.427753   \n",
       "4              1748.172116            88445.209036  ...   86.099236   \n",
       "\n",
       "   mfcc17_mean  mfcc17_var  mfcc18_mean  mfcc18_var  mfcc19_mean  mfcc19_var  \\\n",
       "0    -1.690215   36.524071    -0.408979   41.597103    -2.303523   55.062923   \n",
       "1    -0.731125   60.314529     0.295073   48.120598    -0.283518   51.106190   \n",
       "2    -7.729093   47.639427    -1.816407   52.382141    -3.439720   46.639660   \n",
       "3    -3.319597   50.206673     0.636965   37.319130    -0.619121   37.259739   \n",
       "4    -5.454034   75.269707    -0.916874   53.613918    -4.404827   62.910812   \n",
       "\n",
       "   mfcc20_mean  mfcc20_var  label  \n",
       "0     1.221291   46.936035  blues  \n",
       "1     0.531217   45.786282  blues  \n",
       "2    -2.231258   30.573025  blues  \n",
       "3    -3.407448   31.949339  blues  \n",
       "4   -11.703234   55.195160  blues  \n",
       "\n",
       "[5 rows x 60 columns]"
      ]
     },
     "execution_count": 18,
     "metadata": {},
     "output_type": "execute_result"
    }
   ],
   "source": [
    "df = pd.read_csv('Data/features_30_sec.csv')\n",
    "df.head()"
   ]
  },
  {
   "cell_type": "markdown",
   "id": "c8e00ee0",
   "metadata": {},
   "source": [
    "### Preprocessing"
   ]
  },
  {
   "cell_type": "code",
   "execution_count": 19,
   "id": "616220bf",
   "metadata": {},
   "outputs": [
    {
     "data": {
      "text/plain": [
       "array(['blues', 'classical', 'country', 'disco', 'hiphop', 'jazz',\n",
       "       'metal', 'pop', 'reggae', 'rock'], dtype=object)"
      ]
     },
     "execution_count": 19,
     "metadata": {},
     "output_type": "execute_result"
    }
   ],
   "source": [
    "df['label'].unique()"
   ]
  },
  {
   "cell_type": "code",
   "execution_count": 20,
   "id": "9b891715",
   "metadata": {},
   "outputs": [],
   "source": [
    "# creating a list of labels\n",
    "df['label']=df['label'].astype('category')\n",
    "# creating a list of index\n",
    "df['class_label'] = df['label'].cat.codes"
   ]
  },
  {
   "cell_type": "code",
   "execution_count": 21,
   "id": "55ccbed5",
   "metadata": {},
   "outputs": [
    {
     "name": "stdout",
     "output_type": "stream",
     "text": [
      "blues\n"
     ]
    }
   ],
   "source": [
    "# creating a json type object dictionary to store labels\n",
    "genre_dict = dict(zip(df.class_label.unique(), df.label.unique()))   \n",
    "print(genre_dict[0])"
   ]
  },
  {
   "cell_type": "code",
   "execution_count": 22,
   "id": "989c8dcc",
   "metadata": {},
   "outputs": [
    {
     "data": {
      "text/plain": [
       "['blues', 'classical', 'country', 'disco', 'hiphop', 'jazz', 'metal', 'pop', 'reggae', 'rock']\n",
       "Categories (10, object): ['blues', 'classical', 'country', 'disco', ..., 'metal', 'pop', 'reggae', 'rock']"
      ]
     },
     "execution_count": 22,
     "metadata": {},
     "output_type": "execute_result"
    }
   ],
   "source": [
    "df['label'].unique()"
   ]
  },
  {
   "cell_type": "code",
   "execution_count": 23,
   "id": "2ca83578",
   "metadata": {},
   "outputs": [],
   "source": [
    "# removed the output values from the list\n",
    "cols = list(df.columns)\n",
    "cols.remove('label')"
   ]
  },
  {
   "cell_type": "markdown",
   "id": "97df078c",
   "metadata": {},
   "source": [
    "### Splitting data for training and testing"
   ]
  },
  {
   "cell_type": "code",
   "execution_count": 24,
   "id": "49026fa0",
   "metadata": {},
   "outputs": [],
   "source": [
    "from sklearn.model_selection import train_test_split\n",
    "import matplotlib.pyplot as plt\n",
    "X = df.iloc[:,1:28]\n",
    "y = df['label']\n",
    "X_train,X_test,y_train,y_test=train_test_split(X,y,random_state=3)"
   ]
  },
  {
   "cell_type": "markdown",
   "id": "364dcb3e",
   "metadata": {},
   "source": [
    "### Min-max Normalization"
   ]
  },
  {
   "cell_type": "code",
   "execution_count": 25,
   "id": "40e9b423",
   "metadata": {},
   "outputs": [],
   "source": [
    "from sklearn.preprocessing import MinMaxScaler\n",
    "scaler = MinMaxScaler()\n",
    "X_train_scaled = scaler.fit_transform(X_train)\n",
    "X_test_scaled = scaler.fit_transform(X_test)"
   ]
  },
  {
   "cell_type": "markdown",
   "id": "51a5579a",
   "metadata": {},
   "source": [
    "### Feature importance using Random Forest"
   ]
  },
  {
   "cell_type": "code",
   "execution_count": 26,
   "id": "7235bdd5",
   "metadata": {},
   "outputs": [
    {
     "data": {
      "image/png": "[encoded data removed]",
      "text/plain": [
       "<Figure size 432x288 with 1 Axes>"
      ]
     },
     "metadata": {
      "needs_background": "light"
     },
     "output_type": "display_data"
    }
   ],
   "source": [
    "from sklearn.ensemble import RandomForestClassifier\n",
    "\n",
    "clf = RandomForestClassifier(random_state = 0, n_jobs = -1).fit(X_train_scaled,y_train)\n",
    "importances = clf.feature_importances_\n",
    "#[::x] selects every value at x distance apart\n",
    "## argsort returns the sorted indexes of the array\n",
    "indices =  np.argsort(importances)[::-1]\n",
    "# list of labels of the features\n",
    "features = [X.columns.values[i] for i in indices]\n",
    "plt.figure()\n",
    "plt.title(\"Feature Importance\")\n",
    "plt.bar(range(X.shape[1]),importances[indices])\n",
    "plt.xticks(range(X.shape[1]),features,rotation=90)\n",
    "plt.show()"
   ]
  },
  {
   "cell_type": "markdown",
   "id": "9becaf17",
   "metadata": {},
   "source": [
    "### Feature importance using Decision Tree"
   ]
  },
  {
   "cell_type": "code",
   "execution_count": 27,
   "id": "0e2b10bc",
   "metadata": {},
   "outputs": [
    {
     "data": {
      "image/png": "[encoded data removed]",
      "text/plain": [
       "<Figure size 432x288 with 1 Axes>"
      ]
     },
     "metadata": {
      "needs_background": "light"
     },
     "output_type": "display_data"
    }
   ],
   "source": [
    "from sklearn.tree import DecisionTreeClassifier\n",
    "clf = DecisionTreeClassifier(random_state=0).fit(X_train_scaled, y_train)\n",
    "importances = clf.feature_importances_\n",
    "indices = np.argsort(importances)[::-1]\n",
    "names = [X.columns.values[i] for i in indices]\n",
    "plt.figure()\n",
    "plt.title(\"Feature Importance\")\n",
    "plt.bar(range(X.shape[1]), importances[indices])\n",
    "plt.xticks(range(X.shape[1]), names, rotation=90)\n",
    "plt.show()"
   ]
  },
  {
   "cell_type": "markdown",
   "id": "d2177e8d",
   "metadata": {},
   "source": [
    "### Fetching file metadata for prediction"
   ]
  },
  {
   "cell_type": "code",
   "execution_count": 28,
   "id": "cbb62c7b",
   "metadata": {},
   "outputs": [
    {
     "data": {
      "text/html": [
       "<div>\n",
       "<style scoped>\n",
       "    .dataframe tbody tr th:only-of-type {\n",
       "        vertical-align: middle;\n",
       "    }\n",
       "\n",
       "    .dataframe tbody tr th {\n",
       "        vertical-align: top;\n",
       "    }\n",
       "\n",
       "    .dataframe thead th {\n",
       "        text-align: right;\n",
       "    }\n",
       "</style>\n",
       "<table border=\"1\" class=\"dataframe\">\n",
       "  <thead>\n",
       "    <tr style=\"text-align: right;\">\n",
       "      <th></th>\n",
       "      <th>filename</th>\n",
       "      <th>length</th>\n",
       "      <th>chroma_stft_mean</th>\n",
       "      <th>chroma_stft_var</th>\n",
       "      <th>rms_mean</th>\n",
       "      <th>rms_var</th>\n",
       "      <th>spectral_centroid_mean</th>\n",
       "      <th>spectral_centroid_var</th>\n",
       "      <th>spectral_bandwidth_mean</th>\n",
       "      <th>spectral_bandwidth_var</th>\n",
       "      <th>...</th>\n",
       "      <th>mfcc16_var</th>\n",
       "      <th>mfcc17_mean</th>\n",
       "      <th>mfcc17_var</th>\n",
       "      <th>mfcc18_mean</th>\n",
       "      <th>mfcc18_var</th>\n",
       "      <th>mfcc19_mean</th>\n",
       "      <th>mfcc19_var</th>\n",
       "      <th>mfcc20_mean</th>\n",
       "      <th>mfcc20_var</th>\n",
       "      <th>label</th>\n",
       "    </tr>\n",
       "  </thead>\n",
       "  <tbody>\n",
       "    <tr>\n",
       "      <th>0</th>\n",
       "      <td>Automatic_Teller(Metal).wav</td>\n",
       "      <td>661794</td>\n",
       "      <td>0.472276</td>\n",
       "      <td>0.068043</td>\n",
       "      <td>0.328868</td>\n",
       "      <td>0.000742</td>\n",
       "      <td>2436.997961</td>\n",
       "      <td>74557.062410</td>\n",
       "      <td>2322.447571</td>\n",
       "      <td>32898.95714</td>\n",
       "      <td>...</td>\n",
       "      <td>22.453011</td>\n",
       "      <td>-1.932485</td>\n",
       "      <td>23.373866</td>\n",
       "      <td>-2.266622</td>\n",
       "      <td>21.111026</td>\n",
       "      <td>-6.016707</td>\n",
       "      <td>21.485832</td>\n",
       "      <td>0.404295</td>\n",
       "      <td>20.331105</td>\n",
       "      <td>metal</td>\n",
       "    </tr>\n",
       "    <tr>\n",
       "      <th>1</th>\n",
       "      <td>A_Night_In_Tunisia.wav</td>\n",
       "      <td>661794</td>\n",
       "      <td>0.389212</td>\n",
       "      <td>0.085853</td>\n",
       "      <td>0.198375</td>\n",
       "      <td>0.006135</td>\n",
       "      <td>1672.625585</td>\n",
       "      <td>404920.877300</td>\n",
       "      <td>1741.816412</td>\n",
       "      <td>172258.68860</td>\n",
       "      <td>...</td>\n",
       "      <td>91.261609</td>\n",
       "      <td>2.133521</td>\n",
       "      <td>122.966744</td>\n",
       "      <td>0.904816</td>\n",
       "      <td>56.161487</td>\n",
       "      <td>-4.106335</td>\n",
       "      <td>44.813595</td>\n",
       "      <td>-4.778181</td>\n",
       "      <td>68.486442</td>\n",
       "      <td>jazz</td>\n",
       "    </tr>\n",
       "    <tr>\n",
       "      <th>2</th>\n",
       "      <td>A_Thousand_Years(Pop).wav</td>\n",
       "      <td>661794</td>\n",
       "      <td>0.305757</td>\n",
       "      <td>0.080404</td>\n",
       "      <td>0.105666</td>\n",
       "      <td>0.000832</td>\n",
       "      <td>2077.288883</td>\n",
       "      <td>427163.110200</td>\n",
       "      <td>2456.309073</td>\n",
       "      <td>254105.24050</td>\n",
       "      <td>...</td>\n",
       "      <td>48.032800</td>\n",
       "      <td>-8.341142</td>\n",
       "      <td>48.896518</td>\n",
       "      <td>-0.506528</td>\n",
       "      <td>35.377095</td>\n",
       "      <td>-10.093406</td>\n",
       "      <td>46.958441</td>\n",
       "      <td>-2.527459</td>\n",
       "      <td>47.267469</td>\n",
       "      <td>pop</td>\n",
       "    </tr>\n",
       "    <tr>\n",
       "      <th>3</th>\n",
       "      <td>Beethoven's_5th_Symphony(Classical).wav</td>\n",
       "      <td>661794</td>\n",
       "      <td>0.264400</td>\n",
       "      <td>0.085957</td>\n",
       "      <td>0.028906</td>\n",
       "      <td>0.000659</td>\n",
       "      <td>1319.893050</td>\n",
       "      <td>427200.574800</td>\n",
       "      <td>1568.056110</td>\n",
       "      <td>62944.09990</td>\n",
       "      <td>...</td>\n",
       "      <td>60.257497</td>\n",
       "      <td>-0.840738</td>\n",
       "      <td>60.501465</td>\n",
       "      <td>2.410644</td>\n",
       "      <td>64.407690</td>\n",
       "      <td>2.020258</td>\n",
       "      <td>71.699490</td>\n",
       "      <td>3.961606</td>\n",
       "      <td>82.107269</td>\n",
       "      <td>classical</td>\n",
       "    </tr>\n",
       "    <tr>\n",
       "      <th>4</th>\n",
       "      <td>Beethoven_Moonlight_Sonata(Classical).wav</td>\n",
       "      <td>661794</td>\n",
       "      <td>0.183556</td>\n",
       "      <td>0.077236</td>\n",
       "      <td>0.018925</td>\n",
       "      <td>0.000056</td>\n",
       "      <td>666.156117</td>\n",
       "      <td>7302.776523</td>\n",
       "      <td>1124.088135</td>\n",
       "      <td>21718.22926</td>\n",
       "      <td>...</td>\n",
       "      <td>81.123768</td>\n",
       "      <td>1.752388</td>\n",
       "      <td>81.223624</td>\n",
       "      <td>3.056346</td>\n",
       "      <td>84.860450</td>\n",
       "      <td>1.632566</td>\n",
       "      <td>125.267001</td>\n",
       "      <td>3.197324</td>\n",
       "      <td>155.554954</td>\n",
       "      <td>classical</td>\n",
       "    </tr>\n",
       "  </tbody>\n",
       "</table>\n",
       "<p>5 rows × 60 columns</p>\n",
       "</div>"
      ],
      "text/plain": [
       "                                    filename  length  chroma_stft_mean  \\\n",
       "0                Automatic_Teller(Metal).wav  661794          0.472276   \n",
       "1                     A_Night_In_Tunisia.wav  661794          0.389212   \n",
       "2                  A_Thousand_Years(Pop).wav  661794          0.305757   \n",
       "3    Beethoven's_5th_Symphony(Classical).wav  661794          0.264400   \n",
       "4  Beethoven_Moonlight_Sonata(Classical).wav  661794          0.183556   \n",
       "\n",
       "   chroma_stft_var  rms_mean   rms_var  spectral_centroid_mean  \\\n",
       "0         0.068043  0.328868  0.000742             2436.997961   \n",
       "1         0.085853  0.198375  0.006135             1672.625585   \n",
       "2         0.080404  0.105666  0.000832             2077.288883   \n",
       "3         0.085957  0.028906  0.000659             1319.893050   \n",
       "4         0.077236  0.018925  0.000056              666.156117   \n",
       "\n",
       "   spectral_centroid_var  spectral_bandwidth_mean  spectral_bandwidth_var  \\\n",
       "0           74557.062410              2322.447571             32898.95714   \n",
       "1          404920.877300              1741.816412            172258.68860   \n",
       "2          427163.110200              2456.309073            254105.24050   \n",
       "3          427200.574800              1568.056110             62944.09990   \n",
       "4            7302.776523              1124.088135             21718.22926   \n",
       "\n",
       "   ...  mfcc16_var  mfcc17_mean  mfcc17_var  mfcc18_mean  mfcc18_var  \\\n",
       "0  ...   22.453011    -1.932485   23.373866    -2.266622   21.111026   \n",
       "1  ...   91.261609     2.133521  122.966744     0.904816   56.161487   \n",
       "2  ...   48.032800    -8.341142   48.896518    -0.506528   35.377095   \n",
       "3  ...   60.257497    -0.840738   60.501465     2.410644   64.407690   \n",
       "4  ...   81.123768     1.752388   81.223624     3.056346   84.860450   \n",
       "\n",
       "   mfcc19_mean  mfcc19_var  mfcc20_mean  mfcc20_var      label  \n",
       "0    -6.016707   21.485832     0.404295   20.331105      metal  \n",
       "1    -4.106335   44.813595    -4.778181   68.486442       jazz  \n",
       "2   -10.093406   46.958441    -2.527459   47.267469        pop  \n",
       "3     2.020258   71.699490     3.961606   82.107269  classical  \n",
       "4     1.632566  125.267001     3.197324  155.554954  classical  \n",
       "\n",
       "[5 rows x 60 columns]"
      ]
     },
     "execution_count": 28,
     "metadata": {},
     "output_type": "execute_result"
    }
   ],
   "source": [
    "test_df = pd.read_csv('Data/test set.csv')\n",
    "test_df.head()"
   ]
  },
  {
   "cell_type": "markdown",
   "id": "3173efd1",
   "metadata": {},
   "source": [
    "### K-nearest neighbours"
   ]
  },
  {
   "cell_type": "code",
   "execution_count": 29,
   "id": "6f876e26",
   "metadata": {},
   "outputs": [
    {
     "data": {
      "text/plain": [
       "0.64"
      ]
     },
     "execution_count": 29,
     "metadata": {},
     "output_type": "execute_result"
    }
   ],
   "source": [
    "from sklearn.neighbors import KNeighborsClassifier\n",
    "knn = KNeighborsClassifier(n_neighbors = 13)\n",
    "knn.fit(X_train_scaled,y_train)\n",
    "knn.score(X_test_scaled,y_test)"
   ]
  },
  {
   "cell_type": "markdown",
   "id": "cc209b16",
   "metadata": {},
   "source": [
    "### Prediction using KNN"
   ]
  },
  {
   "cell_type": "code",
   "execution_count": 30,
   "id": "7642282c",
   "metadata": {},
   "outputs": [
    {
     "name": "stdout",
     "output_type": "stream",
     "text": [
      "metal\n"
     ]
    }
   ],
   "source": [
    "d1 = test_df.iloc[0,:28]\n",
    "d1 = d1.drop(['filename'])\n",
    "data1 = scaler.transform([d1])\n",
    "genre_prediction = knn.predict(data1)\n",
    "print(genre_prediction[0])"
   ]
  },
  {
   "cell_type": "markdown",
   "id": "079c250b",
   "metadata": {},
   "source": [
    "### Accuracy of  SVM"
   ]
  },
  {
   "cell_type": "code",
   "execution_count": 31,
   "id": "b830173f",
   "metadata": {},
   "outputs": [
    {
     "data": {
      "text/plain": [
       "0.624"
      ]
     },
     "execution_count": 31,
     "metadata": {},
     "output_type": "execute_result"
    }
   ],
   "source": [
    "from sklearn.svm import SVC\n",
    "clf = SVC(kernel = 'linear', C=10).fit(X_train_scaled, y_train)\n",
    "clf.score(X_test_scaled, y_test)"
   ]
  },
  {
   "cell_type": "markdown",
   "id": "22f4b4be",
   "metadata": {},
   "source": [
    "### Prediction using SVM"
   ]
  },
  {
   "cell_type": "code",
   "execution_count": 32,
   "id": "baee3895",
   "metadata": {},
   "outputs": [
    {
     "name": "stdout",
     "output_type": "stream",
     "text": [
      "disco\n"
     ]
    }
   ],
   "source": [
    "d1 = test_df.iloc[0,:28]\n",
    "d1 = d1.drop(['filename'])\n",
    "data1 = scaler.transform([d1])\n",
    "genre_prediction = clf.predict(data1)\n",
    "print(genre_prediction[0])"
   ]
  },
  {
   "cell_type": "markdown",
   "id": "d7f60055",
   "metadata": {},
   "source": [
    "### ML Algos\n",
    "- Linear regression\n",
    "- Logistic regression\n",
    "- Decision tree\n",
    "- SVM algorithm\n",
    "- Naive Bayes algorithm\n",
    "- KNN algorithm\n",
    "- K-means\n",
    "- Random forest algorithm\n",
    "- Dimensionality reduction algorithms\n",
    "- Gradient boosting algorithm and AdaBoosting algorithm\n"
   ]
  }
 ],
 "metadata": {
  "kernelspec": {
   "display_name": "Python 3 (ipykernel)",
   "language": "python",
   "name": "python3"
  },
  "language_info": {
   "codemirror_mode": {
    "name": "ipython",
    "version": 3
   },
   "file_extension": ".py",
   "mimetype": "text/x-python",
   "name": "python",
   "nbconvert_exporter": "python",
   "pygments_lexer": "ipython3",
   "version": "3.9.7"
  }
 },
 "nbformat": 4,
 "nbformat_minor": 5
}
